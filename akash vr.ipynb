{
 "cells": [
  {
   "cell_type": "code",
   "execution_count": 40,
   "metadata": {},
   "outputs": [],
   "source": [
    "# form filling\n"
   ]
  },
  {
   "cell_type": "code",
   "execution_count": 41,
   "metadata": {},
   "outputs": [],
   "source": [
    "import requests\n",
    "from selenium import webdriver\n",
    "from selenium.webdriver.common.by import By"
   ]
  },
  {
   "cell_type": "code",
   "execution_count": 42,
   "metadata": {},
   "outputs": [],
   "source": [
    "from selenium import webdriver\n",
    "from selenium.webdriver.common.by import By\n",
    "from selenium.webdriver.support.ui import WebDriverWait\n",
    "from selenium.webdriver.support import expected_conditions as EC"
   ]
  },
  {
   "cell_type": "code",
   "execution_count": 43,
   "metadata": {},
   "outputs": [],
   "source": [
    "driver = webdriver.Chrome()\n",
    "driver.get('https://docs.google.com/forms/d/e/1FAIpQLSeaNmDs1tP0wV9XEt2dq_ELavXFHIs1Os2JT2m7xmb7r0I_Iw/formResponse')\n",
    "driver.execute_script(\"window.scrollTo(0, document.body.scrollHeight);\")\n",
    "next = WebDriverWait(driver, 10).until(EC.element_to_be_clickable((By.CLASS_NAME, \"NPEfkd\")))\n",
    "next.click()"
   ]
  },
  {
   "cell_type": "code",
   "execution_count": 44,
   "metadata": {},
   "outputs": [],
   "source": [
    "WebDriverWait(driver, 10).until(EC.element_to_be_clickable((By.CLASS_NAME, \"uHMk6b\"))).click()"
   ]
  },
  {
   "cell_type": "code",
   "execution_count": 45,
   "metadata": {},
   "outputs": [],
   "source": [
    "# driver.execute_script(\"window.scrollTo(0, document.body.scrollHeight);\")\n",
    "# driver.implicitly_wait(2.5)\n",
    "# #i agree box\n",
    "# WebDriverWait(driver, 10).until(EC.element_to_be_clickable((By.CLASS_NAME, \"uHMk6b\"))).click()\n",
    "\n"
   ]
  },
  {
   "cell_type": "code",
   "execution_count": 46,
   "metadata": {},
   "outputs": [],
   "source": [
    "next = WebDriverWait(driver, 10).until(EC.presence_of_all_elements_located((By.CLASS_NAME, \"NPEfkd\")))[1]\n",
    "next.click()"
   ]
  },
  {
   "cell_type": "code",
   "execution_count": 47,
   "metadata": {},
   "outputs": [],
   "source": [
    "# Filling the form"
   ]
  },
  {
   "cell_type": "code",
   "execution_count": 48,
   "metadata": {},
   "outputs": [],
   "source": [
    "WebDriverWait(driver, 10).until(EC.presence_of_all_elements_located((By.CLASS_NAME, \"AB7Lab\")))[1].click()"
   ]
  },
  {
   "cell_type": "code",
   "execution_count": 49,
   "metadata": {},
   "outputs": [],
   "source": [
    "import random\n",
    "luxury_brands = {\n",
    "    'Fashion': ['Gucci', 'Louis Vuitton', 'Chanel', 'Prada', 'Hermès'],\n",
    "    'Automobiles': ['Rolls-Royce', 'Bentley', 'Ferrari', 'Lamborghini', 'Porsche'],\n",
    "    'Jewelry': ['Tiffany & Co.', 'Cartier', 'Bvlgari', 'Harry Winston', 'Van Cleef & Arpels'],\n",
    "    'Watches': ['Rolex', 'Patek Philippe', 'Audemars Piguet', 'Jaeger-LeCoultre', 'Omega'],\n",
    "    'Cosmetics': ['Dior', 'Estée Lauder', 'Chanel', 'La Mer', 'Yves Saint Laurent']\n",
    "}\n",
    "l=[]\n",
    "for i in luxury_brands:\n",
    "    l.extend(luxury_brands[i])\n",
    "l.sort()\n"
   ]
  },
  {
   "cell_type": "code",
   "execution_count": 50,
   "metadata": {},
   "outputs": [
    {
     "data": {
      "text/plain": [
       "['Audemars Piguet',\n",
       " 'Bentley',\n",
       " 'Bvlgari',\n",
       " 'Cartier',\n",
       " 'Chanel',\n",
       " 'Chanel',\n",
       " 'Dior',\n",
       " 'Estée Lauder',\n",
       " 'Ferrari',\n",
       " 'Gucci',\n",
       " 'Harry Winston',\n",
       " 'Hermès',\n",
       " 'Jaeger-LeCoultre',\n",
       " 'La Mer',\n",
       " 'Lamborghini',\n",
       " 'Louis Vuitton',\n",
       " 'Omega',\n",
       " 'Patek Philippe',\n",
       " 'Porsche',\n",
       " 'Prada',\n",
       " 'Rolex',\n",
       " 'Rolls-Royce',\n",
       " 'Tiffany & Co.',\n",
       " 'Van Cleef & Arpels',\n",
       " 'Yves Saint Laurent']"
      ]
     },
     "execution_count": 50,
     "metadata": {},
     "output_type": "execute_result"
    }
   ],
   "source": [
    "l"
   ]
  },
  {
   "cell_type": "code",
   "execution_count": 51,
   "metadata": {},
   "outputs": [],
   "source": [
    "random.sample(l,4)\n",
    "input_element = driver.find_element(By.CLASS_NAME, \"whsOnd\")\n",
    "input_element.send_keys(','.join(random.sample(l,4)))"
   ]
  },
  {
   "cell_type": "code",
   "execution_count": 90,
   "metadata": {},
   "outputs": [
    {
     "data": {
      "text/plain": [
       "40"
      ]
     },
     "execution_count": 90,
     "metadata": {},
     "output_type": "execute_result"
    }
   ],
   "source": [
    "random.randint(30,65)"
   ]
  },
  {
   "cell_type": "code",
   "execution_count": 52,
   "metadata": {},
   "outputs": [],
   "source": [
    "radios=WebDriverWait(driver, 10).until(EC.presence_of_all_elements_located((By.CLASS_NAME, \"AB7Lab\")))\n"
   ]
  },
  {
   "cell_type": "code",
   "execution_count": 53,
   "metadata": {},
   "outputs": [],
   "source": [
    "radios[6].click()\n"
   ]
  },
  {
   "cell_type": "code",
   "execution_count": 54,
   "metadata": {},
   "outputs": [
    {
     "name": "stdout",
     "output_type": "stream",
     "text": [
      "230\n",
      "233\n",
      "236\n",
      "239\n",
      "242\n",
      "245\n",
      "248\n",
      "251\n",
      "254\n",
      "257\n",
      "260\n",
      "263\n",
      "266\n",
      "269\n",
      "272\n",
      "275\n",
      "278\n",
      "281\n",
      "284\n",
      "287\n",
      "290\n",
      "293\n"
     ]
    }
   ],
   "source": [
    "for i in range(230,320,3):\n",
    "    try:\n",
    "        radios[i].click()\n",
    "        break\n",
    "    except:\n",
    "        print(i)"
   ]
  },
  {
   "cell_type": "code",
   "execution_count": 55,
   "metadata": {},
   "outputs": [],
   "source": [
    "radio_ranges=[range(5,10),\n",
    "range(10,15),\n",
    "range(15,20),\n",
    "\n",
    "range(35,40),\n",
    "range(40,45),\n",
    "range(45,50),\n",
    "\n",
    "range(65,70),\n",
    "range(70,75),\n",
    "range(75,80),\n",
    "\n",
    "range(95,100),\n",
    "range(100,105),\n",
    "range(105,110),\n",
    "\n",
    "range(125,130),\n",
    "range(130,135),\n",
    "range(135,140),\n",
    "range(140,145),\n",
    "\n",
    "range(165,170),\n",
    "range(170,175),\n",
    "range(175,180),\n",
    "range(180,185),\n",
    "range(185,190),\n",
    "range(190,195),\n",
    "range(195,200),\n",
    "range(200,205),\n",
    "range(205,210),\n",
    "range(210,215),\n",
    "range(215,220),\n",
    "range(220,225),\n",
    "range(225,230),\n",
    "range(295,300),\n",
    "range(300,305),\n",
    "range(305,310),\n",
    "range(310,315),\n",
    "range(315,320),\n",
    "range(320,325),]\n",
    "# radios[random.choice(new1)].click()\n",
    "\n",
    "for i in radio_ranges:\n",
    "    radios[random.choice(i)].click()\n",
    "\n"
   ]
  },
  {
   "cell_type": "code",
   "execution_count": 56,
   "metadata": {},
   "outputs": [],
   "source": [
    "next = WebDriverWait(driver, 10).until(EC.presence_of_all_elements_located((By.CLASS_NAME, \"NPEfkd\")))[2]\n",
    "next.click()"
   ]
  },
  {
   "cell_type": "code",
   "execution_count": 57,
   "metadata": {},
   "outputs": [
    {
     "name": "stdout",
     "output_type": "stream",
     "text": [
      "range(5,10),\n",
      "range(10,15),\n",
      "range(15,20),\n",
      "range(20,25),\n",
      "range(25,30),\n",
      "range(30,35),\n",
      "range(35,40),\n",
      "range(40,45),\n",
      "range(45,50),\n",
      "range(50,55),\n",
      "range(55,60),\n",
      "range(60,65),\n",
      "range(65,70),\n",
      "range(70,75),\n",
      "range(75,80),\n",
      "range(80,85),\n",
      "range(85,90),\n",
      "range(90,95),\n",
      "range(95,100),\n",
      "range(100,105),\n",
      "range(105,110),\n",
      "range(110,115),\n",
      "range(115,120),\n",
      "range(120,125),\n",
      "range(125,130),\n",
      "range(130,135),\n",
      "range(135,140),\n",
      "range(140,145),\n",
      "range(145,150),\n",
      "range(150,155),\n",
      "range(155,160),\n",
      "range(160,165),\n",
      "range(165,170),\n",
      "range(170,175),\n",
      "range(175,180),\n",
      "range(180,185),\n",
      "range(185,190),\n",
      "range(190,195),\n",
      "range(195,200),\n",
      "range(200,205),\n",
      "range(205,210),\n",
      "range(210,215),\n",
      "range(215,220),\n",
      "range(220,225),\n",
      "range(225,230),\n",
      "range(230,235),\n",
      "range(235,240),\n",
      "range(240,245),\n",
      "range(245,250),\n",
      "range(250,255),\n",
      "range(255,260),\n",
      "range(260,265),\n",
      "range(265,270),\n",
      "range(270,275),\n",
      "range(275,280),\n",
      "range(280,285),\n",
      "range(285,290),\n",
      "range(290,295),\n",
      "range(295,300),\n",
      "range(300,305),\n",
      "range(305,310),\n",
      "range(310,315),\n",
      "range(315,320),\n",
      "range(320,325),\n",
      "range(325,330),\n",
      "range(330,335),\n",
      "range(335,340),\n",
      "range(340,345),\n",
      "range(345,350),\n"
     ]
    }
   ],
   "source": [
    "for i in range(1,70):\n",
    "    print(f'range({5*i},{5*(i+1)}),')"
   ]
  },
  {
   "cell_type": "code",
   "execution_count": 58,
   "metadata": {},
   "outputs": [],
   "source": [
    "# section 2\n",
    "radios1=WebDriverWait(driver, 10).until(EC.presence_of_all_elements_located((By.CLASS_NAME, \"AB7Lab\")))\n"
   ]
  },
  {
   "cell_type": "code",
   "execution_count": 59,
   "metadata": {},
   "outputs": [
    {
     "data": {
      "text/plain": [
       "155"
      ]
     },
     "execution_count": 59,
     "metadata": {},
     "output_type": "execute_result"
    }
   ],
   "source": [
    "len(radios1)"
   ]
  },
  {
   "cell_type": "code",
   "execution_count": 60,
   "metadata": {},
   "outputs": [],
   "source": [
    "radios1[1].click()"
   ]
  },
  {
   "cell_type": "code",
   "execution_count": 61,
   "metadata": {},
   "outputs": [],
   "source": [
    "radios1[35].click()\n"
   ]
  },
  {
   "cell_type": "code",
   "execution_count": 62,
   "metadata": {},
   "outputs": [
    {
     "name": "stdout",
     "output_type": "stream",
     "text": [
      "20\n",
      "22\n",
      "24\n",
      "26\n"
     ]
    },
    {
     "name": "stdout",
     "output_type": "stream",
     "text": [
      "28\n",
      "30\n",
      "32\n",
      "34\n"
     ]
    }
   ],
   "source": [
    "for i in range(20,100,2):\n",
    "    try:\n",
    "        radios1[i].click()\n",
    "        break\n",
    "    except:\n",
    "        print(i)"
   ]
  },
  {
   "cell_type": "code",
   "execution_count": 63,
   "metadata": {},
   "outputs": [],
   "source": [
    "radio_ranges1=[range(5,10),\n",
    "range(10,15),\n",
    "range(15,20),\n",
    "range(35,40),\n",
    "range(40,45),\n",
    "range(45,50),\n",
    "range(50,55),\n",
    "range(55,60),\n",
    "range(60,65),\n",
    "range(65,70),\n",
    "range(70,75),\n",
    "range(75,80),\n",
    "range(80,85),\n",
    "range(85,90),\n",
    "range(90,95),\n",
    "]\n",
    "for i in radio_ranges1:\n",
    "    radios1[random.choice(i)].click()"
   ]
  },
  {
   "cell_type": "code",
   "execution_count": 64,
   "metadata": {},
   "outputs": [],
   "source": [
    "next = WebDriverWait(driver, 10).until(EC.presence_of_all_elements_located((By.CLASS_NAME, \"NPEfkd\")))[1]\n",
    "next.click()"
   ]
  },
  {
   "cell_type": "code",
   "execution_count": 65,
   "metadata": {},
   "outputs": [
    {
     "data": {
      "text/plain": [
       "151"
      ]
     },
     "execution_count": 65,
     "metadata": {},
     "output_type": "execute_result"
    }
   ],
   "source": [
    "#section 3\n",
    "radios2=WebDriverWait(driver, 10).until(EC.presence_of_all_elements_located((By.CLASS_NAME, \"AB7Lab\")))\n",
    "len(radios2)"
   ]
  },
  {
   "cell_type": "code",
   "execution_count": 66,
   "metadata": {},
   "outputs": [],
   "source": [
    "radios2[1].click()"
   ]
  },
  {
   "cell_type": "code",
   "execution_count": 67,
   "metadata": {},
   "outputs": [],
   "source": [
    "western_influencers = [\n",
    "    \"Chiara Ferragni\",\n",
    "    \"Huda Kattan\",\n",
    "    \"Kylie Jenner\",\n",
    "    \"Kim Kardashian\",\n",
    "    \"Kendall Jenner\",\n",
    "    \"Khaby Lame\",\n",
    "    \"Addison Rae\",\n",
    "    \"Charli D'Amelio\",\n",
    "    \"Ariana Grande\",\n",
    "    \"Selena Gomez\",\n",
    "    \"Dwayne 'The Rock' Johnson\",\n",
    "    \"Cristiano Ronaldo\",\n",
    "    \"Lionel Messi\",\n",
    "    \"Katy Perry\",\n",
    "    \"Beyoncé\",\n",
    "    \"Rihanna\",\n",
    "    \"Justin Bieber\",\n",
    "    \"Shawn Mendes\",\n",
    "    \"Chris Hemsworth\",\n",
    "    \"Robert Downey Jr.\",\n",
    "    \"Emma Watson\",\n",
    "    \"Scarlett Johansson\",\n",
    "    \"Jennifer Lopez\",\n",
    "    \"Leonardo DiCaprio\",\n",
    "    \"Brad Pitt\",\n",
    "    \"Angelina Jolie\",\n",
    "    \"Ryan Reynolds\",\n",
    "    \"Blake Lively\",\n",
    "    \"Chris Pratt\",\n",
    "    \"Jennifer Lawrence\",\n",
    "    \"Millie Bobby Brown\",\n",
    "    \"Zendaya\",\n",
    "    \"Noah Schnapp\",\n",
    "    \"David Beckham\",\n",
    "    \"Victoria Beckham\",\n",
    "    \"Gordon Ramsay\",\n",
    "    \"Ariana Grande\",\n",
    "    \"PewDiePie\",\n",
    "    \"Mark Rober\",\n",
    "    \"Like Nastya\",\n",
    "]\n",
    "input_element = driver.find_element(By.CLASS_NAME, \"whsOnd\")\n",
    "input_element.send_keys(', '.join(random.sample(western_influencers,4)))"
   ]
  },
  {
   "cell_type": "code",
   "execution_count": 68,
   "metadata": {},
   "outputs": [],
   "source": [
    "radios2[135].click()\n"
   ]
  },
  {
   "cell_type": "code",
   "execution_count": 69,
   "metadata": {},
   "outputs": [
    {
     "data": {
      "text/plain": [
       "151"
      ]
     },
     "execution_count": 69,
     "metadata": {},
     "output_type": "execute_result"
    }
   ],
   "source": [
    "len(radios2)"
   ]
  },
  {
   "cell_type": "code",
   "execution_count": 70,
   "metadata": {},
   "outputs": [
    {
     "name": "stdout",
     "output_type": "stream",
     "text": [
      "59\n",
      "60\n",
      "61\n",
      "62\n",
      "63\n",
      "64\n",
      "65\n",
      "66\n",
      "67\n",
      "68\n",
      "69\n",
      "70\n",
      "71\n",
      "72\n",
      "73\n",
      "74\n",
      "75\n",
      "76\n",
      "77\n",
      "78\n",
      "79\n",
      "80\n",
      "81\n",
      "82\n",
      "83\n",
      "84\n",
      "85\n",
      "86\n",
      "87\n",
      "88\n",
      "89\n",
      "90\n",
      "91\n",
      "92\n",
      "93\n",
      "94\n",
      "95\n",
      "96\n",
      "97\n",
      "98\n",
      "99\n",
      "100\n",
      "101\n",
      "102\n",
      "103\n",
      "104\n",
      "105\n",
      "106\n",
      "107\n",
      "108\n",
      "109\n",
      "110\n",
      "111\n",
      "112\n"
     ]
    }
   ],
   "source": [
    "for i in range(59,151):\n",
    "    try:\n",
    "        radios2[i].click()\n",
    "        break\n",
    "    except:\n",
    "        print(i)"
   ]
  },
  {
   "cell_type": "code",
   "execution_count": 71,
   "metadata": {},
   "outputs": [
    {
     "name": "stdout",
     "output_type": "stream",
     "text": [
      "range(3,8),\n",
      "range(8,13),\n",
      "range(13,18),\n",
      "range(18,23),\n",
      "range(23,28),\n",
      "range(28,33),\n",
      "range(33,38),\n",
      "range(38,43),\n",
      "range(43,48),\n",
      "range(48,53),\n",
      "range(53,58),\n",
      "range(58,63),\n",
      "range(63,68),\n",
      "range(68,73),\n",
      "range(73,78),\n",
      "range(78,83),\n",
      "range(83,88),\n",
      "range(88,93),\n",
      "range(93,98),\n",
      "range(98,103),\n",
      "range(103,108),\n",
      "range(108,113),\n",
      "range(113,118),\n",
      "range(118,123),\n",
      "range(123,128),\n",
      "range(128,133),\n",
      "range(133,138),\n",
      "range(138,143),\n",
      "range(143,148),\n",
      "range(148,153),\n",
      "range(153,158),\n",
      "range(158,163),\n",
      "range(163,168),\n",
      "range(168,173),\n",
      "range(173,178),\n",
      "range(178,183),\n",
      "range(183,188),\n",
      "range(188,193),\n",
      "range(193,198),\n",
      "range(198,203),\n",
      "range(203,208),\n",
      "range(208,213),\n",
      "range(213,218),\n",
      "range(218,223),\n",
      "range(223,228),\n",
      "range(228,233),\n",
      "range(233,238),\n",
      "range(238,243),\n",
      "range(243,248),\n",
      "range(248,253),\n",
      "range(253,258),\n",
      "range(258,263),\n",
      "range(263,268),\n",
      "range(268,273),\n",
      "range(273,278),\n",
      "range(278,283),\n",
      "range(283,288),\n",
      "range(288,293),\n",
      "range(293,298),\n",
      "range(298,303),\n",
      "range(303,308),\n",
      "range(308,313),\n",
      "range(313,318),\n",
      "range(318,323),\n",
      "range(323,328),\n",
      "range(328,333),\n",
      "range(333,338),\n",
      "range(338,343),\n",
      "range(343,348),\n"
     ]
    }
   ],
   "source": [
    "f=3\n",
    "for i in range(1,70):\n",
    "    print(f'range({f},{f+5}),')\n",
    "    f=f+5"
   ]
  },
  {
   "cell_type": "code",
   "execution_count": 72,
   "metadata": {},
   "outputs": [],
   "source": [
    "radio_ranges2=[range(3,8),\n",
    "range(8,13),\n",
    "range(13,18),\n",
    "range(18,23),\n",
    "range(23,28),\n",
    "range(28,33),\n",
    "range(33,38),\n",
    "range(38,43),\n",
    "range(43,48),\n",
    "range(48,53),\n",
    "range(53,58),\n",
    "[113,114],\n",
    "range(115,120),\n",
    "range(121,126),\n",
    "range(126,131),\n",
    "range(131,136)\n",
    "]\n",
    "for i in radio_ranges2:\n",
    "    radios2[random.choice(i)].click()"
   ]
  },
  {
   "cell_type": "code",
   "execution_count": 73,
   "metadata": {},
   "outputs": [
    {
     "data": {
      "text/plain": [
       "113"
      ]
     },
     "execution_count": 73,
     "metadata": {},
     "output_type": "execute_result"
    }
   ],
   "source": [
    "random.choice([113])"
   ]
  },
  {
   "cell_type": "code",
   "execution_count": 74,
   "metadata": {},
   "outputs": [],
   "source": [
    "western_luxury_products = [\n",
    "    # Fashion (15)\n",
    "    \"Louis Vuitton Neverfull tote bag\",\n",
    "    \"Gucci Dionysus shoulder bag\",\n",
    "    \"Prada Re-Nylon bucket hat\",\n",
    "    \"Dolce & Gabbana The Devotion bag\",\n",
    "    \"Chanel tweed jacket\",\n",
    "    \"Ralph Lauren cashmere crewneck sweater\",\n",
    "    \"Burberry trench coat\",\n",
    "    \"Saint Laurent leather biker jacket\",\n",
    "    \"Valentino Rockstud pumps\",\n",
    "    \"Bottega Veneta padded cassette bag\",\n",
    "    \"Loewe Puzzle bag\",\n",
    "    \"Alexander McQueen scarf dress\",\n",
    "    \"Givenchy Antigona bag\",\n",
    "    \"Balmain double-breasted blazer\",\n",
    "    \"Oscar de la Renta cocktail dress\",\n",
    "\n",
    "    # Watches (15)\n",
    "    \"Cartier Santos watch\",\n",
    "    \"Rolex Submariner timepiece\",\n",
    "    \"Omega Speedmaster Moonwatch\",\n",
    "    \"Jaeger-LeCoultre Reverso watch\",\n",
    "    \"Breitling Navitimer chronograph\",\n",
    "    \"IWC Portugieser watch\",\n",
    "    \"Patek Philippe Nautilus model\",\n",
    "    \"TAG Heuer Carrera watch\",\n",
    "    \"A. Lange & Söhne Lange 1 watch\",\n",
    "    \"Tudor Black Bay watch\",\n",
    "    \"Cartier Tank Francaise watch\",\n",
    "    \"Vacheron Constantin Overseas watch\",\n",
    "    \"Audemars Piguet Royal Oak watch\",\n",
    "    \"Grand Seiko Spring Drive watch\",\n",
    "    \"Zenith El Primero chronograph\",\n",
    "\n",
    "    # Perfumes (10)\n",
    "    \"Chanel No. 5 Eau de Parfum\",\n",
    "    \"Tom Ford Oud Wood Eau de Parfum\",\n",
    "    \"Christian Dior J'adore Eau de Parfum\",\n",
    "    \"Guerlain Aqua Allegoria Mon Guerlain Eau de Toilette\",\n",
    "    \"Byredo Gypsy Water Eau de Parfum\",\n",
    "    \"Maison Francis Kurkdjian Baccarat Rouge 540 Eau de Parfum\",\n",
    "    \"Jo Malone London English Pear & Freesia Cologne\",\n",
    "    \"Amouage Interlude Man Eau de Parfum\",\n",
    "    \"Creed Aventus Eau de Parfum\",\n",
    "    \"Le Labo Santal 33 Eau de Parfum\",\n",
    "]\n",
    "driver.find_elements(By.CLASS_NAME, \"whsOnd\")[1].send_keys(', '.join(random.sample(western_luxury_products,4)))"
   ]
  },
  {
   "cell_type": "code",
   "execution_count": 75,
   "metadata": {},
   "outputs": [],
   "source": [
    "next = WebDriverWait(driver, 10).until(EC.presence_of_all_elements_located((By.CLASS_NAME, \"NPEfkd\")))[1]\n",
    "next.click()"
   ]
  },
  {
   "cell_type": "code",
   "execution_count": 76,
   "metadata": {},
   "outputs": [],
   "source": [
    "input_element = driver.find_element(By.CLASS_NAME, \"whsOnd\")\n",
    "input_element.send_keys('Arjun')#name\n",
    "\n"
   ]
  },
  {
   "cell_type": "code",
   "execution_count": 77,
   "metadata": {},
   "outputs": [
    {
     "data": {
      "text/plain": [
       "28"
      ]
     },
     "execution_count": 77,
     "metadata": {},
     "output_type": "execute_result"
    }
   ],
   "source": [
    "radios3=WebDriverWait(driver, 10).until(EC.presence_of_all_elements_located((By.CLASS_NAME, \"AB7Lab\")))\n",
    "len(radios3)"
   ]
  },
  {
   "cell_type": "code",
   "execution_count": 78,
   "metadata": {},
   "outputs": [],
   "source": [
    "radios3[0].click()\n",
    "radios3[3].click()\n",
    "radios3[11].click()\n",
    "radios3[14].click()\n",
    "radios3[23].click()\n",
    "\n"
   ]
  },
  {
   "cell_type": "code",
   "execution_count": 79,
   "metadata": {},
   "outputs": [],
   "source": [
    "next = WebDriverWait(driver, 10).until(EC.presence_of_all_elements_located((By.CLASS_NAME, \"NPEfkd\")))[1]\n",
    "next.click()"
   ]
  },
  {
   "cell_type": "code",
   "execution_count": 80,
   "metadata": {},
   "outputs": [],
   "source": [
    "driver.quit()"
   ]
  }
 ],
 "metadata": {
  "kernelspec": {
   "display_name": "Python 3",
   "language": "python",
   "name": "python3"
  },
  "language_info": {
   "codemirror_mode": {
    "name": "ipython",
    "version": 3
   },
   "file_extension": ".py",
   "mimetype": "text/x-python",
   "name": "python",
   "nbconvert_exporter": "python",
   "pygments_lexer": "ipython3",
   "version": "3.11.5"
  }
 },
 "nbformat": 4,
 "nbformat_minor": 2
}
